{
  "nbformat": 4,
  "nbformat_minor": 0,
  "metadata": {
    "colab": {
      "provenance": []
    },
    "kernelspec": {
      "name": "python3",
      "display_name": "Python 3"
    },
    "language_info": {
      "name": "python"
    }
  },
  "cells": [
    {
      "cell_type": "code",
      "source": [
        "import matplotlib.pyplot as plt\n",
        "import matplotlib as mpl\n",
        "from pennylane import numpy as np\n",
        "\n",
        "def _make_circular_data(num_sectors):\n",
        "    \"\"\"Generate datapoints arranged in an even circle.\"\"\"\n",
        "    center_indices = np.array(range(0, num_sectors))\n",
        "    sector_angle = 2 * np.pi / num_sectors\n",
        "    angles = (center_indices + 0.5) * sector_angle\n",
        "    x = 0.7 * np.cos(angles)\n",
        "    y = 0.7 * np.sin(angles)\n",
        "    labels = 2 * np.remainder(np.floor_divide(angles, sector_angle), 2) - 1\n",
        "\n",
        "    return x, y, labels\n",
        "\n",
        "def make_double_cake_data(num_sectors):\n",
        "    x1, y1, labels1 = _make_circular_data(num_sectors)\n",
        "    x2, y2, labels2 = _make_circular_data(num_sectors)\n",
        "\n",
        "    x = np.hstack([x1, 0.5 * x2])\n",
        "    y = np.hstack([y1, 0.5 * y2])\n",
        "\n",
        "    X = np.vstack([x, y]).T\n",
        "\n",
        "    labels = np.hstack([labels1, -1 * labels2])\n",
        "\n",
        "    Y = labels.astype(int)\n",
        "\n",
        "    return X, Y\n",
        "\n",
        "def plot_double_cake_data(X, Y, ax, num_sectors=None):\n",
        "    x, y = X.T\n",
        "    cmap = mpl.colors.ListedColormap([\"#FF00FF\", \"#808000\"])\n",
        "    ax.scatter(x, y, c=Y, cmap=cmap, s=25, marker=\"s\")\n",
        "\n",
        "    if num_sectors is not None:\n",
        "        sector_angle = 360 / num_sectors\n",
        "        for i in range(num_sectors):\n",
        "            color = [\"#FF00FF\", \"#808000\"][(i % 2)]\n",
        "            other_color = [\"#FF00FF\", \"#808000\"][((i + 1) % 2)]\n",
        "            ax.add_artist(\n",
        "                mpl.patches.Wedge(\n",
        "                    (0, 0),\n",
        "                    1,\n",
        "                    i * sector_angle,\n",
        "                    (i + 1) * sector_angle,\n",
        "                    lw=0,\n",
        "                    color=color,\n",
        "                    alpha=0.1,\n",
        "                    width=0.5,\n",
        "                )\n",
        "            )\n",
        "            ax.add_artist(\n",
        "                mpl.patches.Wedge(\n",
        "                    (0, 0),\n",
        "                    0.5,\n",
        "                    i * sector_angle,\n",
        "                    (i + 1) * sector_angle,\n",
        "                    lw=0,\n",
        "                    color=other_color,\n",
        "                    alpha=0.1,\n",
        "                )\n",
        "            )\n",
        "            ax.set_xlim(-1, 1)\n",
        "\n",
        "    ax.set_ylim(-1, 1)\n",
        "    ax.set_aspect(\"equal\")\n",
        "    ax.axis(\"off\")\n",
        "\n",
        "    return ax\n",
        "\n",
        "num_sectors = 4\n",
        "X, Y = make_double_cake_data(num_sectors)\n",
        "\n",
        "fig, ax = plt.subplots(figsize=(6, 6))\n",
        "ax = plot_double_cake_data(X, Y, ax, num_sectors=num_sectors)\n",
        "plt.show()\n"
      ],
      "metadata": {
        "colab": {
          "base_uri": "https://localhost:8080/",
          "height": 499
        },
        "id": "opWGcsmpJBOD",
        "outputId": "e6512565-ef48-454f-a5e2-b0a5f3b0ccb3"
      },
      "execution_count": null,
      "outputs": [
        {
          "output_type": "display_data",
          "data": {
            "text/plain": [
              "<Figure size 600x600 with 1 Axes>"
            ],
            "image/png": "[encoded data removed]"
          },
          "metadata": {}
        }
      ]
    },
    {
      "cell_type": "code",
      "source": [
        "def _make_ring_data(num_points, radius):\n",
        "    angles = np.linspace(0, 2*np.pi, num_points, endpoint=False)\n",
        "    x = radius * np.cos(angles)\n",
        "    y = radius * np.sin(angles)\n",
        "    return x, y\n",
        "\n",
        "def make_triple_cake_data(num_points):\n",
        "    num_points_per_ring = num_points // 3\n",
        "    x1, y1 = _make_ring_data(num_points_per_ring, 0.7)\n",
        "    x2, y2 = _make_ring_data(num_points_per_ring, 0.5)\n",
        "    x3, y3 = _make_ring_data(num_points_per_ring, 0.3)\n",
        "\n",
        "    x = np.hstack([x1, x2, x3])\n",
        "    y = np.hstack([y1, y2, y3])\n",
        "\n",
        "    X = np.vstack([x, y]).T\n",
        "\n",
        "    labels = np.hstack([np.ones(num_points_per_ring) * 1,\n",
        "                        np.ones(num_points_per_ring) * -1,\n",
        "                        np.ones(num_points_per_ring) * 1])\n",
        "\n",
        "    Y = labels.astype(int)\n",
        "\n",
        "    return X, Y\n",
        "\n",
        "\n",
        "np.random.seed(2468)\n",
        "X_triple_cake, Y_triple_cake = make_triple_cake_data(300)\n",
        "\n",
        "fig, ax = plt.subplots(figsize=(6, 6))\n",
        "ax.scatter(X_triple_cake[:, 0], X_triple_cake[:, 1], c=Y_triple_cake, cmap='coolwarm', s=25, marker='s')\n",
        "ax.set_xlim(-1, 1)\n",
        "ax.set_ylim(-1, 1)\n",
        "ax.set_aspect('equal')\n",
        "ax.axis('off')\n",
        "plt.show()\n"
      ],
      "metadata": {
        "colab": {
          "base_uri": "https://localhost:8080/",
          "height": 499
        },
        "id": "qhITMW4WB0Pg",
        "outputId": "fae549f8-73c0-4e8f-8a46-fd511ed72ef3"
      },
      "execution_count": null,
      "outputs": [
        {
          "output_type": "display_data",
          "data": {
            "text/plain": [
              "<Figure size 600x600 with 1 Axes>"
            ],
            "image/png": "[encoded data removed]"
          },
          "metadata": {}
        }
      ]
    },
    {
      "cell_type": "code",
      "source": [
        "def _make_new_sector_data(num_sectors):\n",
        "    center_indices = np.arange(num_sectors)\n",
        "    sector_angle = 2 * np.pi / num_sectors\n",
        "    angles = (center_indices + 0.5) * sector_angle\n",
        "    radius = 0.8\n",
        "\n",
        "    x = radius * np.cos(angles)\n",
        "    y = radius * np.sin(angles)\n",
        "\n",
        "    colors = [plt.cm.jet(i / float(num_sectors)) for i in range(num_sectors)]\n",
        "\n",
        "    labels = np.arange(num_sectors) % 2\n",
        "\n",
        "    return x, y, labels, colors\n",
        "\n",
        "\n",
        "def make_new_sector_dataset(num_sectors):\n",
        "    x, y, labels, colors = _make_new_sector_data(num_sectors)\n",
        "\n",
        "    X = np.vstack([x, y]).T\n",
        "    Y = labels.astype(int)\n",
        "\n",
        "    return X, Y, colors\n",
        "\n",
        "import matplotlib.pyplot as plt\n",
        "import matplotlib as mpl\n",
        "from pennylane import numpy as np\n",
        "num_sectors = 5\n",
        "X_new_sector, Y_new_sector, colors_new_sector = make_new_sector_dataset(num_sectors)\n",
        "\n",
        "fig, ax = plt.subplots(figsize=(6, 6))\n",
        "cmap = mpl.colors.ListedColormap(colors_new_sector)\n",
        "ax.scatter(X_new_sector[:, 0], X_new_sector[:, 1], c=Y_new_sector, cmap=cmap, s=25, marker='s')\n",
        "\n",
        "for i in range(num_sectors):\n",
        "    color = colors_new_sector[i]\n",
        "    ax.add_artist(mpl.patches.Wedge((0, 0), 0.8, i * 360 / num_sectors, (i + 1) * 360 / num_sectors, color=color, alpha=0.1))\n",
        "\n",
        "ax.set_xlim(-1, 1)\n",
        "ax.set_ylim(-1, 1)\n",
        "ax.set_aspect('equal')\n",
        "ax.axis('off')\n",
        "\n",
        "plt.show()"
      ],
      "metadata": {
        "colab": {
          "base_uri": "https://localhost:8080/",
          "height": 499
        },
        "id": "VvKrZoyZJ1WS",
        "outputId": "d8a96314-9c64-4847-acdf-3057037fddd0"
      },
      "execution_count": null,
      "outputs": [
        {
          "output_type": "display_data",
          "data": {
            "text/plain": [
              "<Figure size 600x600 with 1 Axes>"
            ],
            "image/png": "[encoded data removed]"
          },
          "metadata": {}
        }
      ]
    },
    {
      "cell_type": "code",
      "source": [
        "import pennylane as qml\n",
        "from pennylane import numpy as np\n",
        "\n",
        "def layer(x, params, wires, i0=0, inc=1):\n",
        "    i = i0\n",
        "    for j, wire in enumerate(wires):\n",
        "        qml.Hadamard(wires=wire)\n",
        "        qml.RZ(x[i % len(x)], wires=wire)\n",
        "        i += inc\n",
        "        qml.RY(params[0, j], wires=wire)\n",
        "\n",
        "    qml.broadcast(unitary=qml.CRZ, pattern=\"ring\", wires=wires, parameters=params[1])"
      ],
      "metadata": {
        "id": "-OWT3VEmKfTJ"
      },
      "execution_count": null,
      "outputs": []
    },
    {
      "cell_type": "code",
      "source": [
        "import pennylane as qml\n",
        "from pennylane import numpy as np\n",
        "\n",
        "def custom_layer(x, params, wires, i0=0, inc=1):\n",
        "    i = i0\n",
        "    for j, wire in enumerate(wires):\n",
        "        qml.Hadamard(wires=wire)\n",
        "        qml.RZ(x[i % len(x)], wires=wire)\n",
        "        i += inc\n",
        "        qml.RY(params[0, j], wires=wire)\n",
        "\n",
        "    qml.broadcast(unitary=qml.CRZ, pattern=\"ring\", wires=wires, parameters=params[1])\n",
        "\n",
        "def custom_ansatz(x, params, wires):\n",
        "    \"\"\"The embedding ansatz\"\"\"\n",
        "    for j, layer_params in enumerate(params):\n",
        "        custom_layer(x, layer_params, wires, i0=j * len(wires))\n",
        "\n",
        "custom_adjoint_ansatz = qml.adjoint(custom_ansatz)\n",
        "\n",
        "def custom_random_params(num_wires, num_layers):\n",
        "    \"\"\"Generate random variational parameters in the shape for the ansatz.\"\"\"\n",
        "    return np.random.uniform(0, 2 * np.pi, (num_layers, 2, num_wires), requires_grad=True)\n",
        "\n",
        "dev = qml.device(\"default.qubit\", wires=5, shots=None)\n",
        "wires = dev.wires.tolist()\n",
        "\n",
        "@qml.qnode(dev)\n",
        "def custom_kernel_circuit(x1, x2, params):\n",
        "    custom_ansatz(x1, params, wires=wires)\n",
        "    custom_adjoint_ansatz(x2, params, wires=wires)\n",
        "    return qml.probs(wires=wires)\n",
        "\n",
        "def custom_kernel(x1, x2, params):\n",
        "    return custom_kernel_circuit(x1, x2, params)[0]\n",
        "\n",
        "init_params = custom_random_params(num_wires=5, num_layers=6)\n",
        "\n",
        "X = np.random.rand(5, 5)\n",
        "kernel_value = custom_kernel(X[0], X[1], init_params)\n",
        "print(f\"The kernel value between the first and second datapoint is {kernel_value:.3f}\")\n",
        "\n",
        "init_kernel = lambda x1, x2: custom_kernel(x1, x2, init_params)\n",
        "K_init = qml.kernels.square_kernel_matrix(X, init_kernel, assume_normalized_kernel=True)\n",
        "\n",
        "with np.printoptions(precision=3, suppress=True):\n",
        "    print(K_init)\n"
      ],
      "metadata": {
        "colab": {
          "base_uri": "https://localhost:8080/"
        },
        "id": "iMaqfwceLD_e",
        "outputId": "e4af74ab-bfb5-4fb1-ba7b-ec0ef5c41bc8"
      },
      "execution_count": null,
      "outputs": [
        {
          "output_type": "stream",
          "name": "stdout",
          "text": [
            "The kernel value between the first and second datapoint is 0.656\n",
            "[[1.    0.656 0.262 0.313 0.325]\n",
            " [0.656 1.    0.196 0.255 0.217]\n",
            " [0.262 0.196 1.    0.377 0.641]\n",
            " [0.313 0.255 0.377 1.    0.495]\n",
            " [0.325 0.217 0.641 0.495 1.   ]]\n"
          ]
        }
      ]
    },
    {
      "cell_type": "code",
      "source": [
        "import pennylane as qml\n",
        "from pennylane import numpy as np\n",
        "import matplotlib.pyplot as plt\n",
        "import matplotlib as mpl\n",
        "from sklearn.svm import SVC\n",
        "\n",
        "num_sectors = 3\n",
        "X, Y = make_double_cake_data(num_sectors)\n",
        "\n",
        "def init_kernel(X1, X2):\n",
        "    return np.dot(X1, X2.T)\n",
        "\n",
        "print(f\"Shape of X: {X.shape}, Shape of Y: {Y.shape}\")\n",
        "\n",
        "svm = SVC(kernel=init_kernel).fit(X, Y)\n",
        "\n",
        "def accuracy(classifier, X, Y_target):\n",
        "    return classifier.score(X, Y_target)\n",
        "\n",
        "accuracy_init = accuracy(svm, X, Y)\n",
        "print(f\"The accuracy of the kernel with random parameters is {accuracy_init:.3f}\")\n",
        "\n",
        "def plot_decision_boundaries(classifier, ax, N_gridpoints=100):\n",
        "    _xx, _yy = np.meshgrid(np.linspace(-1, 1, N_gridpoints), np.linspace(-1, 1, N_gridpoints))\n",
        "    _zz = classifier.predict(np.c_[_xx.ravel(), _yy.ravel()]).reshape(_xx.shape)\n",
        "\n",
        "    ax.contourf(\n",
        "        _xx,\n",
        "        _yy,\n",
        "        _zz,\n",
        "        cmap=mpl.colors.ListedColormap([\"#FF00FF\", \"#808000\"]),\n",
        "        alpha=0.2,\n",
        "        levels=[-1, 0, 1],\n",
        "    )\n",
        "    plot_double_cake_data(X, Y, ax, num_sectors=5)\n",
        "\n",
        "    ax.set_xlim(-1, 1)\n",
        "    ax.set_ylim(-1, 1)\n",
        "    ax.set_aspect('equal')\n",
        "    ax.axis('off')\n",
        "\n",
        "    return _xx, _yy, _zz\n",
        "\n",
        "fig, ax = plt.subplots(figsize=(8, 8))\n",
        "_ = plot_decision_boundaries(svm, ax)\n",
        "plt.title('Decision Boundaries for Initial Classifier')\n",
        "plt.show()\n"
      ],
      "metadata": {
        "colab": {
          "base_uri": "https://localhost:8080/",
          "height": 710
        },
        "id": "QhFu5NedL13m",
        "outputId": "24605774-c002-494c-e112-f3e95cb86283"
      },
      "execution_count": null,
      "outputs": [
        {
          "output_type": "stream",
          "name": "stdout",
          "text": [
            "Shape of X: (6, 2), Shape of Y: (6,)\n",
            "The accuracy of the kernel with random parameters is 0.500\n"
          ]
        },
        {
          "output_type": "display_data",
          "data": {
            "text/plain": [
              "<Figure size 800x800 with 1 Axes>"
            ],
            "image/png": "[encoded data removed]"
          },
          "metadata": {}
        }
      ]
    },
    {
      "cell_type": "code",
      "source": [
        "import pennylane as qml\n",
        "from pennylane import numpy as np\n",
        "\n",
        "def differentiable_target_alignment(X, Y, kernel, assume_normalized_kernel=False):\n",
        "    \"\"\"Differentiable version of kernel-target alignment.\"\"\"\n",
        "    K = qml.kernels.square_kernel_matrix(X, kernel, assume_normalized_kernel=assume_normalized_kernel)\n",
        "    n_samples = len(X)\n",
        "\n",
        "    if np.unique(Y).size > 1:\n",
        "        _Y = Y.copy()\n",
        "        _Y[Y == np.unique(Y)[0]] = -1\n",
        "        _Y[Y == np.unique(Y)[1]] = 1\n",
        "    else:\n",
        "        _Y = Y\n",
        "\n",
        "    T = np.outer(_Y, _Y)\n",
        "    inner_product = np.sum(K * T)\n",
        "    norm = np.sqrt(np.sum(K * K) * np.sum(T * T))\n",
        "    inner_product = inner_product / norm\n",
        "\n",
        "    return inner_product\n"
      ],
      "metadata": {
        "id": "7YQWk5dIQy6n"
      },
      "execution_count": null,
      "outputs": []
    },
    {
      "cell_type": "code",
      "source": [
        "def kernel(x1, x2, params):\n",
        "    ansatz(x1, params, wires=wires)\n",
        "    adjoint_ansatz(x2, params, wires=wires)\n",
        "    return kernel_circuit(x1, x2, params)[0]"
      ],
      "metadata": {
        "id": "KNpXq1XnSHvj"
      },
      "execution_count": null,
      "outputs": []
    },
    {
      "cell_type": "code",
      "source": [
        "import pennylane as qml\n",
        "from pennylane import numpy as np\n",
        "from sklearn.svm import SVC\n",
        "\n",
        "def layer(x, params, wires, i0=0, inc=1):\n",
        "    i = i0\n",
        "    for j, wire in enumerate(wires):\n",
        "        qml.Hadamard(wires=wire)\n",
        "        qml.RZ(x[i % len(x)], wires=wire)\n",
        "        i += inc\n",
        "        qml.RY(params[0, j], wires=wire)\n",
        "\n",
        "    qml.broadcast(unitary=qml.CRZ, pattern=\"ring\", wires=wires, parameters=params[1])\n",
        "\n",
        "def ansatz(x, params, wires):\n",
        "    for j, layer_params in enumerate(params):\n",
        "        layer(x, layer_params, wires, i0=j * len(wires))\n",
        "\n",
        "adjoint_ansatz = qml.adjoint(ansatz)\n",
        "\n",
        "def kernel(x1, x2, params):\n",
        "    ansatz(x1, params, wires=wires)\n",
        "    adjoint_ansatz(x2, params, wires=wires)\n",
        "    return qml.probs(wires=wires)[0]\n",
        "\n",
        "def random_params(num_wires, num_layers):\n",
        "    return np.random.uniform(0, 2 * np.pi, (num_layers, 2, num_wires), requires_grad=True)\n",
        "\n",
        "dev = qml.device(\"default.qubit\", wires=5, shots=None)\n",
        "wires = dev.wires.tolist()\n",
        "\n",
        "@qml.qnode(dev)\n",
        "def kernel_circuit(x1, x2, params):\n",
        "    ansatz(x1, params, wires=wires)\n",
        "    adjoint_ansatz(x2, params, wires=wires)\n",
        "    return qml.probs(wires=wires)\n",
        "\n",
        "def kernel(x1, x2, params):\n",
        "    return kernel_circuit(x1, x2, params)[0]\n",
        "\n",
        "init_params = random_params(num_wires=5, num_layers=2)\n"
      ],
      "metadata": {
        "id": "lfyeWjpcSaeZ"
      },
      "execution_count": null,
      "outputs": []
    },
    {
      "cell_type": "code",
      "source": [
        "params = init_params\n",
        "opt = qml.GradientDescentOptimizer(0.2)\n",
        "\n",
        "for i in range(100):\n",
        "    subset = np.random.choice(len(X), 2, replace=False)\n",
        "\n",
        "    cost = lambda _params: -differentiable_target_alignment(\n",
        "        X[subset], Y[subset],\n",
        "        lambda x1, x2: kernel(x1, x2, _params),\n",
        "        assume_normalized_kernel=True\n",
        "    )\n",
        "\n",
        "    params = opt.step(cost, params)\n",
        "\n",
        "    if (i + 1) % 10 == 0:\n",
        "        current_alignment = differentiable_target_alignment(\n",
        "            X, Y,\n",
        "            lambda x1, x2: kernel(x1, x2, params),\n",
        "            assume_normalized_kernel=True\n",
        "        )\n",
        "        print(f\"Step {i+1} - Alignment = {current_alignment:.3f}\")\n"
      ],
      "metadata": {
        "colab": {
          "base_uri": "https://localhost:8080/"
        },
        "id": "e_XenXqDSnF4",
        "outputId": "d5921b6d-e73c-4e5a-f381-c78e06c44b1c"
      },
      "execution_count": null,
      "outputs": [
        {
          "output_type": "stream",
          "name": "stdout",
          "text": [
            "Step 10 - Alignment = 0.032\n",
            "Step 20 - Alignment = 0.032\n",
            "Step 30 - Alignment = 0.033\n",
            "Step 40 - Alignment = 0.033\n",
            "Step 50 - Alignment = 0.033\n",
            "Step 60 - Alignment = 0.033\n",
            "Step 70 - Alignment = 0.033\n",
            "Step 80 - Alignment = 0.033\n",
            "Step 90 - Alignment = 0.034\n",
            "Step 100 - Alignment = 0.034\n"
          ]
        }
      ]
    },
    {
      "cell_type": "code",
      "source": [
        "import pickle\n",
        "\n",
        "with open('trained_params.pkl', 'wb') as f:\n",
        "    pickle.dump(params, f)\n"
      ],
      "metadata": {
        "id": "VdsW-wJAoKPP"
      },
      "execution_count": null,
      "outputs": []
    },
    {
      "cell_type": "code",
      "source": [
        "trained_kernel = lambda x1, x2: kernel(x1, x2, params)\n",
        "\n",
        "trained_kernel_matrix = lambda X1, X2: qml.kernels.kernel_matrix(X1, X2, trained_kernel)\n",
        "\n",
        "svm_trained = SVC(kernel=trained_kernel_matrix).fit(X, Y)\n",
        "\n",
        "accuracy_trained = accuracy(svm_trained, X, Y)\n",
        "print(f\"The accuracy of a kernel with trained parameters is {accuracy_trained:.3f}\")\n"
      ],
      "metadata": {
        "colab": {
          "base_uri": "https://localhost:8080/"
        },
        "id": "val39bMxJxjt",
        "outputId": "4ce55ff9-95f9-43de-a14b-f087a744ae28"
      },
      "execution_count": null,
      "outputs": [
        {
          "output_type": "stream",
          "name": "stdout",
          "text": [
            "The accuracy of a kernel with trained parameters is 0.667\n"
          ]
        }
      ]
    },
    {
      "cell_type": "code",
      "source": [
        "from joblib import Parallel, delayed\n",
        "\n",
        "def plot_decision_boundaries(classifier, X, Y, ax, N_gridpoints=50):\n",
        "    xx, yy = np.meshgrid(np.linspace(X[:, 0].min() - 1, X[:, 0].max() + 1, N_gridpoints),\n",
        "                         np.linspace(X[:, 1].min() - 1, X[:, 1].max() + 1, N_gridpoints))\n",
        "\n",
        "    grid_points = np.c_[xx.ravel(), yy.ravel()]\n",
        "\n",
        "    def compute_kernel_row(gp):\n",
        "        return np.array([trained_kernel(gp, xp) for xp in X])\n",
        "\n",
        "    K_grid = np.array(Parallel(n_jobs=-1)(delayed(compute_kernel_row)(gp) for gp in grid_points))\n",
        "\n",
        "    Z = classifier.predict(K_grid)\n",
        "    Z = Z.reshape(xx.shape)\n",
        "\n",
        "    ax.contourf(xx, yy, Z, cmap=plt.cm.coolwarm, alpha=0.8)\n",
        "    ax.scatter(X[:, 0], X[:, 1], c=Y, cmap=plt.cm.coolwarm, edgecolors='k')\n",
        "    ax.set_xlim(xx.min(), xx.max())\n",
        "    ax.set_ylim(yy.min(), yy.max())\n",
        "    ax.set_xticks(())\n",
        "    ax.set_yticks(())\n",
        "    ax.set_title('Decision Boundaries for SVM with Trained Parameters')\n",
        "\n",
        "fig, ax = plt.subplots(figsize=(8, 8))\n",
        "plot_decision_boundaries(svm_trained, X, Y, ax)\n",
        "plt.show()"
      ],
      "metadata": {
        "id": "BJl7oMqERWNM"
      },
      "execution_count": null,
      "outputs": []
    },
    {
      "cell_type": "code",
      "source": [
        "import pennylane as qml\n",
        "from pennylane import numpy as np\n",
        "from sklearn.svm import SVC\n",
        "\n",
        "def layer(x, params, wires, i0=0, inc=1):\n",
        "    i = i0\n",
        "    for j, wire in enumerate(wires):\n",
        "        qml.Hadamard(wires=wire)\n",
        "        qml.RZ(x[i % len(x)], wires=wire)\n",
        "        i += inc\n",
        "        qml.RY(params[0, j], wires=wire)\n",
        "\n",
        "    qml.broadcast(unitary=qml.CRZ, pattern=\"ring\", wires=wires, parameters=params[1])\n",
        "\n",
        "def ansatz(x, params, wires):\n",
        "    for j, layer_params in enumerate(params):\n",
        "        layer(x, layer_params, wires, i0=j * len(wires))\n",
        "\n",
        "adjoint_ansatz = qml.adjoint(ansatz)\n",
        "\n",
        "def kernel(x1, x2, params):\n",
        "    ansatz(x1, params, wires=wires)\n",
        "    adjoint_ansatz(x2, params, wires=wires)\n",
        "    return qml.probs(wires=wires)[0]\n",
        "\n",
        "def random_params(num_wires, num_layers):\n",
        "    return np.random.uniform(0, 2 * np.pi, (num_layers, 3, num_wires), requires_grad=True)\n",
        "\n",
        "dev = qml.device(\"default.qubit\", wires=5, shots=None)\n",
        "wires = dev.wires.tolist()\n",
        "\n",
        "@qml.qnode(dev)\n",
        "def kernel_circuit(x1, x2, params):\n",
        "    ansatz(x1, params, wires=wires)\n",
        "    adjoint_ansatz(x2, params, wires=wires)\n",
        "    return qml.probs(wires=wires)\n",
        "\n",
        "def kernel(x1, x2, params):\n",
        "    return kernel_circuit(x1, x2, params)[0]\n",
        "\n",
        "init_params = random_params(num_wires=5, num_layers=3)\n"
      ],
      "metadata": {
        "id": "6LykQ-AXdasc"
      },
      "execution_count": null,
      "outputs": []
    },
    {
      "cell_type": "code",
      "source": [
        "params = init_params\n",
        "opt = qml.GradientDescentOptimizer(0.2)\n",
        "\n",
        "for i in range(200):\n",
        "    subset = np.random.choice(len(X), 2, replace=False)\n",
        "\n",
        "    cost = lambda _params: -differentiable_target_alignment(\n",
        "        X[subset], Y[subset],\n",
        "        lambda x1, x2: kernel(x1, x2, _params),\n",
        "        assume_normalized_kernel=True\n",
        "    )\n",
        "\n",
        "    params = opt.step(cost, params)\n",
        "\n",
        "    if (i + 1) % 20 == 0:\n",
        "        current_alignment = differentiable_target_alignment(\n",
        "            X, Y,\n",
        "            lambda x1, x2: kernel(x1, x2, params),\n",
        "            assume_normalized_kernel=True\n",
        "        )\n",
        "        print(f\"Step {i+1} - Alignment = {current_alignment:.3f}\")\n"
      ],
      "metadata": {
        "colab": {
          "base_uri": "https://localhost:8080/"
        },
        "id": "abULrlQxdnVB",
        "outputId": "a4b7151f-78ba-471d-f975-3df0310a2d3b"
      },
      "execution_count": null,
      "outputs": [
        {
          "output_type": "stream",
          "name": "stdout",
          "text": [
            "Step 20 - Alignment = 0.053\n",
            "Step 40 - Alignment = 0.053\n",
            "Step 60 - Alignment = 0.056\n",
            "Step 80 - Alignment = 0.057\n",
            "Step 100 - Alignment = 0.061\n",
            "Step 120 - Alignment = 0.065\n",
            "Step 140 - Alignment = 0.068\n",
            "Step 160 - Alignment = 0.069\n",
            "Step 180 - Alignment = 0.069\n",
            "Step 200 - Alignment = 0.070\n"
          ]
        }
      ]
    },
    {
      "cell_type": "code",
      "source": [
        "trained_kernel = lambda x1, x2: kernel(x1, x2, params)\n",
        "\n",
        "trained_kernel_matrix = lambda X1, X2: qml.kernels.kernel_matrix(X1, X2, trained_kernel)\n",
        "\n",
        "svm_trained = SVC(kernel=trained_kernel_matrix).fit(X, Y)\n",
        "\n",
        "accuracy_trained = accuracy(svm_trained, X, Y)\n",
        "print(f\"The accuracy of a kernel with trained parameters is {accuracy_trained:.3f}\")\n"
      ],
      "metadata": {
        "colab": {
          "base_uri": "https://localhost:8080/"
        },
        "id": "islV2zbqdyhv",
        "outputId": "944c189f-cd96-438f-89c9-3e07aa489414"
      },
      "execution_count": null,
      "outputs": [
        {
          "output_type": "stream",
          "name": "stdout",
          "text": [
            "The accuracy of a kernel with trained parameters is 0.833\n"
          ]
        }
      ]
    },
    {
      "cell_type": "markdown",
      "source": [
        "#### As we improve the hyperparameter tuning, we can reach a perfect classification with the accuracy of nearly 1.00 with the trained parameters."
      ],
      "metadata": {
        "id": "FrxH7bTOe-YQ"
      }
    }
  ]
}